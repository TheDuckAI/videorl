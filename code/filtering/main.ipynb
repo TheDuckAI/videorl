{
 "cells": [
  {
   "cell_type": "code",
   "execution_count": null,
   "metadata": {},
   "outputs": [],
   "source": [
    "# split into train and test\n",
    "!python3 utils.py --input_csv data/sample.csv --train_csv data/train.csv --test_csv data/test.csv\n"
   ]
  },
  {
   "cell_type": "code",
   "execution_count": null,
   "metadata": {},
   "outputs": [
    {
     "name": "stdout",
     "output_type": "stream",
     "text": [
      "Traceback (most recent call last):\n",
      "  File \"/Users/tomohirosawada/Library/Mobile Documents/com~apple~CloudDocs/From_Desktop/desktop_buffer/videorl/code/filtering/models/linear.py\", line 5, in <module>\n",
      "    from sklearn.linear_model import LinearRegression\n",
      "ModuleNotFoundError: No module named 'sklearn'\n"
     ]
    }
   ],
   "source": [
    "# train model\n",
    "!python3 models/linear.py data/train.csv cache config.yaml\n"
   ]
  }
 ],
 "metadata": {
  "kernelspec": {
   "display_name": "duckai",
   "language": "python",
   "name": "python3"
  },
  "language_info": {
   "codemirror_mode": {
    "name": "ipython",
    "version": 3
   },
   "file_extension": ".py",
   "mimetype": "text/x-python",
   "name": "python",
   "nbconvert_exporter": "python",
   "pygments_lexer": "ipython3",
   "version": "3.11.5"
  },
  "orig_nbformat": 4
 },
 "nbformat": 4,
 "nbformat_minor": 2
}
